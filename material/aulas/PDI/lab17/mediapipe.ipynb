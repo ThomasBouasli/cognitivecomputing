{
 "cells": [
  {
   "attachments": {},
   "cell_type": "markdown",
   "metadata": {},
   "source": [
    "## Mediapipe\n",
    "\n",
    "**Objetivos da aula:**\n",
    "\n",
    "*   apresentar e aplicar a lib mediapipe\n",
    "\n",
    "Mediapipe é uma biblioteca de processamento de mídia de código aberto desenvolvida pelo Google, que fornece uma ampla variedade de algoritmos e ferramentas de visão computacional para análise de dados em tempo real. A biblioteca é implementada em C++ e Python, com suporte para processamento em CPU e GPU.\n",
    "\n",
    "Entre as funcionalidades oferecidas pela biblioteca Mediapipe, destacam-se a detecção de keypoints, tracking, classificação de gestos, reconhecimento facial, pose estimation, detecção de objetos e segmentação de imagem. A implementação desses algoritmos é feita utilizando técnicas de aprendizado de máquina e redes neurais profundas, incluindo redes neurais convolucionais e redes de grafos."
   ]
  },
  {
   "cell_type": "code",
   "execution_count": null,
   "metadata": {},
   "outputs": [],
   "source": [
    "## instalação via pip\n",
    "\n",
    "\n",
    "#!pip install mediapipe"
   ]
  },
  {
   "attachments": {},
   "cell_type": "markdown",
   "metadata": {},
   "source": [
    "O site oficial da documentação do Mediapipe é o https://mediapipe.dev/. Lá, você encontrará informações detalhadas sobre como utilizar cada uma das funcionalidades da biblioteca, incluindo tutoriais em vídeo e em texto, exemplos de código, e muito mais. Além disso, a página oferece uma ampla variedade de recursos adicionais, como fóruns de discussão, bibliotecas de modelos pré-treinados, e outros materiais úteis para desenvolvedores de visão computacional."
   ]
  },
  {
   "attachments": {},
   "cell_type": "markdown",
   "metadata": {},
   "source": [
    "### Tracking de mão\n",
    "\n",
    "O Mediapipe Hand Tracking é um recurso da biblioteca Mediapipe que permite a detecção e rastreamento das mãos em tempo real, a partir de uma entrada de vídeo ou imagem. Esse recurso utiliza uma rede neural que é treinada para reconhecer pontos de referência nas mãos, como a base dos dedos, pontas dos dedos e pulso."
   ]
  },
  {
   "cell_type": "code",
   "execution_count": 1,
   "metadata": {},
   "outputs": [],
   "source": [
    "import mediapipe as mp\n",
    "import cv2\n",
    "import numpy as np\n",
    "import uuid\n",
    "import os"
   ]
  },
  {
   "cell_type": "code",
   "execution_count": 2,
   "metadata": {},
   "outputs": [],
   "source": [
    "mp_drawing = mp.solutions.drawing_utils\n",
    "mp_hands = mp.solutions.hands"
   ]
  },
  {
   "cell_type": "markdown",
   "metadata": {},
   "source": [
    "<img src=\"hand.png\">"
   ]
  },
  {
   "cell_type": "code",
   "execution_count": 3,
   "metadata": {
    "tags": [
     "outputPrepend"
    ]
   },
   "outputs": [],
   "source": [
    "cap = cv2.VideoCapture(0)\n",
    "\n",
    "with mp_hands.Hands(min_detection_confidence=0.8, min_tracking_confidence=0.5) as hands: \n",
    "    while cap.isOpened():\n",
    "        ret, frame = cap.read()\n",
    "        \n",
    "        # BGR 2 RGB\n",
    "        image = cv2.cvtColor(frame, cv2.COLOR_BGR2RGB)\n",
    "        \n",
    "        # Flip on horizontal\n",
    "        image = cv2.flip(image, 1)\n",
    "        \n",
    "        # Set flag\n",
    "        image.flags.writeable = False\n",
    "        \n",
    "        # Detections\n",
    "        results = hands.process(image)\n",
    "        \n",
    "        # Set flag to true\n",
    "        image.flags.writeable = True\n",
    "        \n",
    "        # RGB 2 BGR\n",
    "        image = cv2.cvtColor(image, cv2.COLOR_RGB2BGR)\n",
    "        \n",
    "        # Rendering results\n",
    "        if results.multi_hand_landmarks:\n",
    "            for num, hand in enumerate(results.multi_hand_landmarks):\n",
    "                mp_drawing.draw_landmarks(image, hand, mp_hands.HAND_CONNECTIONS, \n",
    "                                        mp_drawing.DrawingSpec(color=(121, 22, 76), thickness=2, circle_radius=4),\n",
    "                                        mp_drawing.DrawingSpec(color=(250, 44, 250), thickness=2, circle_radius=2),\n",
    "                                         )\n",
    "            \n",
    "        \n",
    "        cv2.imshow('Hand Tracking', image)\n",
    "\n",
    "        if cv2.waitKey(10) & 0xFF == ord('q'):\n",
    "            break\n",
    "\n",
    "cap.release()\n",
    "cv2.destroyAllWindows()"
   ]
  },
  {
   "cell_type": "markdown",
   "metadata": {},
   "source": [
    "### contagem dos dedos\n",
    "\n",
    "adaptado de: https://github.com/ANANTH-SWAMY/NUMBER-DETECTION-WITH-MEDIAPIPE"
   ]
  },
  {
   "cell_type": "code",
   "execution_count": 4,
   "metadata": {},
   "outputs": [],
   "source": [
    "import cv2\n",
    "import mediapipe\n",
    "import time\n",
    "\n",
    "ctime=0\n",
    "ptime=0\n",
    "\n",
    "cap=cv2.VideoCapture(0)\n",
    "\n",
    "medhands=mediapipe.solutions.hands\n",
    "hands=medhands.Hands(max_num_hands=1,min_detection_confidence=0.7)\n",
    "draw=mediapipe.solutions.drawing_utils\n",
    "\n",
    "while True:\n",
    "    success, img=cap.read() #pega um frame da imagem\n",
    "    \n",
    "    img = cv2.flip(img,1) # inverte a imagem\n",
    "    \n",
    "    imgrgb = cv2.cvtColor(img, cv2.COLOR_BGR2RGB)  \n",
    "    \n",
    "    \n",
    "    #realiza a detecção da mão na imagem\n",
    "    res = hands.process(imgrgb)\n",
    "    \n",
    "    lmlist=[]\n",
    "    tipids=[4,8,12,16,20] # lista com as pontas dos dedos\n",
    "    \n",
    "    #desenha no canto da tela um retangulo, os numeros vão aparecer aqui\n",
    "    cv2.rectangle(img,(20,350),(90,440),(0,255,204),cv2.FILLED)\n",
    "    cv2.rectangle(img,(20,350),(90,440),(0,0,0),5)\n",
    "    \n",
    "    ## se detectar alguma mão entra no if \n",
    "    if res.multi_hand_landmarks:\n",
    "        for handlms in res.multi_hand_landmarks:\n",
    "            for id,lm in enumerate(handlms.landmark):\n",
    "                \n",
    "                h,w,c= img.shape\n",
    "                cx,cy=int(lm.x * w) , int(lm.y * h)\n",
    "                lmlist.append([id,cx,cy])\n",
    "                if len(lmlist) != 0 and len(lmlist)==21:\n",
    "                    fingerlist=[]\n",
    "                    \n",
    "                    #thumb and dealing with flipping of hands\n",
    "                    if lmlist[12][1] > lmlist[20][1]:\n",
    "                        if lmlist[tipids[0]][1] > lmlist[tipids[0]-1][1]:\n",
    "                            fingerlist.append(1)\n",
    "                        else:\n",
    "                            fingerlist.append(0)\n",
    "                    else:\n",
    "                        if lmlist[tipids[0]][1] < lmlist[tipids[0]-1][1]:\n",
    "                            fingerlist.append(1)\n",
    "                        else:\n",
    "                            fingerlist.append(0)\n",
    "                    \n",
    "                    #others\n",
    "                    for id in range (1,5):\n",
    "                        if lmlist[tipids[id]][2] < lmlist[tipids[id]-2][2]:\n",
    "                            fingerlist.append(1)\n",
    "                        else:\n",
    "                            fingerlist.append(0)\n",
    "                    \n",
    "                    \n",
    "                    if len(fingerlist)!=0:  # se a lista for diferente de zero então \n",
    "                        fingercount=fingerlist.count(1) # conta quantidade de dedos\n",
    "                    \n",
    "                    # escreve na tela a quantidade detectada\n",
    "                    cv2.putText(img,str(fingercount),(25,430),cv2.FONT_HERSHEY_PLAIN,6,(0,0,0),5)\n",
    "                    \n",
    "                #change color of points and lines\n",
    "                draw.draw_landmarks(img,handlms,medhands.HAND_CONNECTIONS,draw.DrawingSpec(color=(0,255,204),thickness=2,circle_radius=2),draw.DrawingSpec(color=(0,0,0),thickness=2,circle_radius=3))\n",
    "          \n",
    "    cv2.imshow(\"hand gestures\",img)\n",
    "    \n",
    "    #press q to quit\n",
    "    if cv2.waitKey(1) == ord('q'):\n",
    "        break\n",
    "cap.release()   \n",
    "cv2.destroyAllWindows()"
   ]
  },
  {
   "cell_type": "code",
   "execution_count": null,
   "metadata": {},
   "outputs": [],
   "source": []
  }
 ],
 "metadata": {
  "kernelspec": {
   "display_name": "Python 3",
   "language": "python",
   "name": "python3"
  },
  "language_info": {
   "codemirror_mode": {
    "name": "ipython",
    "version": 3
   },
   "file_extension": ".py",
   "mimetype": "text/x-python",
   "name": "python",
   "nbconvert_exporter": "python",
   "pygments_lexer": "ipython3",
   "version": "3.9.5"
  }
 },
 "nbformat": 4,
 "nbformat_minor": 2
}
